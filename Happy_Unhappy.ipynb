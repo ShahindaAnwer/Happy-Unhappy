{
  "nbformat": 4,
  "nbformat_minor": 0,
  "metadata": {
    "colab": {
      "provenance": [],
      "collapsed_sections": []
    },
    "kernelspec": {
      "name": "python3",
      "display_name": "Python 3"
    },
    "language_info": {
      "name": "python"
    }
  },
  "cells": [
    {
      "cell_type": "code",
      "metadata": {
        "id": "KWFr2EVC8HnA"
      },
      "source": [
        "import numpy as np\n",
        "import matplotlib.pyplot as plt\n",
        "from matplotlib.pyplot import imshow\n",
        "\n",
        "%matplotlib inline"
      ],
      "execution_count": 1,
      "outputs": []
    },
    {
      "cell_type": "code",
      "metadata": {
        "id": "Dv5ccPm384Ol"
      },
      "source": [
        "import h5py"
      ],
      "execution_count": 2,
      "outputs": []
    },
    {
      "cell_type": "code",
      "metadata": {
        "id": "t1s-L9GJ9CL7",
        "colab": {
          "base_uri": "https://localhost:8080/"
        },
        "outputId": "e60e6397-a9ee-4300-f817-77263d5f4325"
      },
      "source": [
        "!gdown --id 1x9KXHNdWGCZ5wlQpNGVK7EqHdT3ryDW5"
      ],
      "execution_count": 3,
      "outputs": [
        {
          "output_type": "stream",
          "name": "stdout",
          "text": [
            "/usr/local/lib/python3.7/dist-packages/gdown/cli.py:131: FutureWarning: Option `--id` was deprecated in version 4.3.1 and will be removed in 5.0. You don't need to pass it anymore to use a file ID.\n",
            "  category=FutureWarning,\n",
            "Downloading...\n",
            "From: https://drive.google.com/uc?id=1x9KXHNdWGCZ5wlQpNGVK7EqHdT3ryDW5\n",
            "To: /content/happy_train.h5\n",
            "100% 7.38M/7.38M [00:00<00:00, 69.8MB/s]\n"
          ]
        }
      ]
    },
    {
      "cell_type": "code",
      "metadata": {
        "id": "2usvY13d9aRD",
        "colab": {
          "base_uri": "https://localhost:8080/"
        },
        "outputId": "87d65cea-85a3-4df2-c203-88fba33aadb7"
      },
      "source": [
        "!gdown --id 1UqJ8a35WclmJDgt2TRFSw1hDFsp8HgkD"
      ],
      "execution_count": 4,
      "outputs": [
        {
          "output_type": "stream",
          "name": "stdout",
          "text": [
            "/usr/local/lib/python3.7/dist-packages/gdown/cli.py:131: FutureWarning: Option `--id` was deprecated in version 4.3.1 and will be removed in 5.0. You don't need to pass it anymore to use a file ID.\n",
            "  category=FutureWarning,\n",
            "Downloading...\n",
            "From: https://drive.google.com/uc?id=1UqJ8a35WclmJDgt2TRFSw1hDFsp8HgkD\n",
            "To: /content/happy_test.h5\n",
            "100% 1.85M/1.85M [00:00<00:00, 156MB/s]\n"
          ]
        }
      ]
    },
    {
      "cell_type": "code",
      "metadata": {
        "id": "Zv3PtXtw8oCi",
        "colab": {
          "base_uri": "https://localhost:8080/"
        },
        "outputId": "da4eded3-300f-45bb-e16c-9ec15b13a024"
      },
      "source": [
        "def load_dataset():\n",
        "    path_to_train = \"happy_train.h5\"\n",
        "    path_to_test = \"happy_test.h5\"\n",
        "    train_dataset = h5py.File(path_to_train)\n",
        "    train_x = np.array(train_dataset['train_set_x'][:])\n",
        "    train_y = np.array(train_dataset['train_set_y'][:])\n",
        "\n",
        "    test_dataset = h5py.File(path_to_test)\n",
        "    test_x = np.array(test_dataset['test_set_x'][:])\n",
        "    test_y = np.array(test_dataset['test_set_y'][:])\n",
        "\n",
        "    # y reshaped\n",
        "    train_y = train_y.reshape((1, train_x.shape[0]))\n",
        "    test_y = test_y.reshape((1, test_y.shape[0]))\n",
        "\n",
        "    return train_x, train_y, test_x, test_y  \n",
        "\n",
        "X_train, y_train, X_test, y_test = load_dataset()\n",
        "\n",
        "print (\"number of training examples = \" + str(X_train.shape[0]))\n",
        "print (\"number of test examples = \" + str(X_test.shape[0]))\n",
        "print (\"X_train shape: \" + str(X_train.shape))\n",
        "print (\"Y_train shape: \" + str(y_train.shape))\n",
        "print (\"X_test shape: \" + str(X_test.shape))\n",
        "print (\"Y_test shape: \" + str(y_test.shape))"
      ],
      "execution_count": 5,
      "outputs": [
        {
          "output_type": "stream",
          "name": "stdout",
          "text": [
            "number of training examples = 600\n",
            "number of test examples = 150\n",
            "X_train shape: (600, 64, 64, 3)\n",
            "Y_train shape: (1, 600)\n",
            "X_test shape: (150, 64, 64, 3)\n",
            "Y_test shape: (1, 150)\n"
          ]
        }
      ]
    },
    {
      "cell_type": "code",
      "source": [
        "plt.imshow(X_train[5])"
      ],
      "metadata": {
        "colab": {
          "base_uri": "https://localhost:8080/",
          "height": 285
        },
        "id": "QVscIy0Mi3uH",
        "outputId": "4212251d-0419-459d-c8af-b6d184b30703"
      },
      "execution_count": 6,
      "outputs": [
        {
          "output_type": "execute_result",
          "data": {
            "text/plain": [
              "<matplotlib.image.AxesImage at 0x7f172ea68a50>"
            ]
          },
          "metadata": {},
          "execution_count": 6
        },
        {
          "output_type": "display_data",
          "data": {
            "text/plain": [
              "<Figure size 432x288 with 1 Axes>"
            ],
            "image/png": "[encoded data removed]"
          },
          "metadata": {
            "needs_background": "light"
          }
        }
      ]
    },
    {
      "cell_type": "code",
      "source": [
        "X_train[5].shape"
      ],
      "metadata": {
        "colab": {
          "base_uri": "https://localhost:8080/"
        },
        "id": "3YZfn6z2jge5",
        "outputId": "b8363e87-a956-4025-cb3b-4b78ee4649f8"
      },
      "execution_count": 7,
      "outputs": [
        {
          "output_type": "execute_result",
          "data": {
            "text/plain": [
              "(64, 64, 3)"
            ]
          },
          "metadata": {},
          "execution_count": 7
        }
      ]
    },
    {
      "cell_type": "code",
      "source": [
        "X_train[5]"
      ],
      "metadata": {
        "colab": {
          "base_uri": "https://localhost:8080/"
        },
        "id": "sPoDM6jIjiEk",
        "outputId": "a58e2ae7-e406-4f42-aff4-4760a9fe7d50"
      },
      "execution_count": 8,
      "outputs": [
        {
          "output_type": "execute_result",
          "data": {
            "text/plain": [
              "array([[[157, 167, 142],\n",
              "        [163, 165, 146],\n",
              "        [153, 156, 139],\n",
              "        ...,\n",
              "        [254, 255, 234],\n",
              "        [246, 250, 230],\n",
              "        [237, 245, 215]],\n",
              "\n",
              "       [[176, 189, 152],\n",
              "        [171, 182, 148],\n",
              "        [139, 146, 125],\n",
              "        ...,\n",
              "        [253, 254, 225],\n",
              "        [248, 251, 220],\n",
              "        [232, 245, 177]],\n",
              "\n",
              "       [[185, 199, 157],\n",
              "        [176, 193, 153],\n",
              "        [126, 132, 118],\n",
              "        ...,\n",
              "        [248, 253, 212],\n",
              "        [249, 252, 213],\n",
              "        [232, 243, 190]],\n",
              "\n",
              "       ...,\n",
              "\n",
              "       [[ 30,  31,  30],\n",
              "        [ 31,  32,  32],\n",
              "        [ 41,  42,  44],\n",
              "        ...,\n",
              "        [153, 146, 135],\n",
              "        [172, 167, 152],\n",
              "        [157, 152, 139]],\n",
              "\n",
              "       [[ 25,  27,  25],\n",
              "        [ 30,  31,  30],\n",
              "        [ 42,  42,  44],\n",
              "        ...,\n",
              "        [142, 136, 131],\n",
              "        [117, 116, 102],\n",
              "        [ 95,  94,  72]],\n",
              "\n",
              "       [[ 23,  24,  22],\n",
              "        [ 31,  31,  31],\n",
              "        [ 38,  38,  40],\n",
              "        ...,\n",
              "        [ 71,  65,  56],\n",
              "        [ 76,  79,  65],\n",
              "        [142, 136, 119]]], dtype=uint8)"
            ]
          },
          "metadata": {},
          "execution_count": 8
        }
      ]
    },
    {
      "cell_type": "code",
      "source": [
        "y_train"
      ],
      "metadata": {
        "colab": {
          "base_uri": "https://localhost:8080/"
        },
        "id": "uIR4NU_EkDwV",
        "outputId": "09c5c8bc-63e3-4f0f-fb03-48b83657033e"
      },
      "execution_count": 9,
      "outputs": [
        {
          "output_type": "execute_result",
          "data": {
            "text/plain": [
              "array([[0, 1, 1, 1, 1, 1, 0, 0, 0, 1, 0, 0, 1, 1, 1, 1, 1, 0, 0, 0, 0, 1,\n",
              "        1, 0, 1, 0, 1, 1, 1, 1, 1, 1, 0, 1, 0, 1, 0, 0, 1, 1, 1, 0, 1, 0,\n",
              "        1, 1, 0, 1, 0, 1, 1, 0, 1, 0, 0, 0, 0, 1, 0, 1, 1, 1, 0, 1, 1, 1,\n",
              "        1, 0, 1, 0, 1, 1, 0, 1, 1, 0, 1, 1, 1, 0, 1, 1, 0, 0, 0, 0, 1, 0,\n",
              "        1, 0, 1, 1, 0, 0, 1, 1, 0, 1, 1, 0, 1, 0, 1, 0, 0, 1, 0, 0, 1, 1,\n",
              "        1, 0, 0, 0, 1, 0, 0, 1, 1, 0, 1, 0, 0, 1, 0, 1, 1, 0, 1, 0, 0, 0,\n",
              "        1, 0, 0, 0, 1, 1, 0, 1, 1, 0, 0, 1, 1, 1, 1, 1, 1, 1, 1, 1, 0, 0,\n",
              "        1, 0, 0, 0, 0, 0, 1, 0, 0, 0, 0, 0, 1, 1, 1, 1, 0, 0, 1, 0, 1, 0,\n",
              "        1, 1, 1, 0, 0, 1, 0, 0, 0, 1, 0, 1, 0, 0, 0, 0, 0, 1, 1, 0, 1, 0,\n",
              "        0, 0, 0, 1, 1, 1, 0, 0, 0, 1, 1, 0, 0, 0, 1, 0, 0, 1, 0, 0, 1, 1,\n",
              "        0, 1, 0, 1, 1, 1, 0, 1, 1, 1, 1, 1, 0, 0, 0, 1, 1, 1, 0, 1, 0, 1,\n",
              "        0, 1, 0, 1, 1, 1, 1, 0, 0, 0, 1, 1, 0, 0, 1, 1, 0, 1, 1, 1, 0, 1,\n",
              "        1, 0, 1, 1, 1, 0, 0, 0, 0, 1, 0, 0, 0, 1, 0, 1, 1, 0, 1, 1, 1, 0,\n",
              "        0, 1, 1, 0, 0, 0, 1, 0, 0, 0, 1, 0, 1, 0, 1, 1, 1, 0, 1, 0, 1, 0,\n",
              "        0, 0, 1, 0, 0, 1, 0, 1, 1, 0, 0, 0, 1, 0, 0, 0, 1, 0, 0, 1, 1, 1,\n",
              "        0, 0, 1, 0, 0, 1, 0, 0, 1, 0, 1, 1, 1, 1, 0, 0, 1, 0, 1, 1, 1, 0,\n",
              "        1, 1, 0, 1, 0, 0, 0, 1, 0, 0, 0, 1, 1, 0, 1, 1, 0, 0, 1, 0, 1, 0,\n",
              "        0, 0, 1, 0, 0, 1, 1, 1, 1, 1, 0, 1, 0, 1, 1, 1, 0, 0, 1, 1, 1, 1,\n",
              "        0, 0, 1, 1, 1, 1, 1, 1, 0, 1, 0, 1, 0, 0, 0, 1, 1, 0, 1, 0, 0, 0,\n",
              "        1, 0, 1, 1, 1, 1, 1, 1, 0, 0, 0, 1, 1, 1, 1, 0, 0, 1, 1, 0, 0, 1,\n",
              "        0, 0, 0, 0, 0, 0, 1, 0, 1, 0, 0, 0, 0, 1, 1, 0, 1, 0, 1, 0, 0, 0,\n",
              "        0, 0, 1, 0, 1, 0, 1, 1, 1, 0, 0, 0, 1, 1, 1, 1, 1, 1, 0, 1, 0, 0,\n",
              "        0, 1, 0, 0, 1, 0, 0, 0, 1, 0, 0, 0, 1, 1, 0, 1, 1, 0, 0, 1, 1, 0,\n",
              "        0, 1, 0, 0, 1, 1, 1, 0, 1, 1, 1, 1, 1, 0, 0, 1, 0, 1, 1, 1, 0, 0,\n",
              "        0, 0, 0, 0, 0, 0, 0, 0, 0, 1, 0, 1, 1, 0, 0, 1, 0, 1, 0, 0, 1, 1,\n",
              "        0, 0, 1, 0, 1, 0, 1, 1, 0, 0, 0, 0, 1, 1, 0, 1, 0, 0, 1, 0, 1, 1,\n",
              "        1, 0, 1, 1, 0, 1, 1, 0, 0, 0, 1, 1, 1, 0, 1, 1, 1, 0, 1, 0, 0, 1,\n",
              "        0, 1, 0, 0, 0, 0]])"
            ]
          },
          "metadata": {},
          "execution_count": 9
        }
      ]
    },
    {
      "cell_type": "code",
      "source": [
        "from keras import Sequential #Sequential model; a linear stack of layers."
      ],
      "metadata": {
        "id": "NOL3ITqgliX7"
      },
      "execution_count": 10,
      "outputs": []
    },
    {
      "cell_type": "code",
      "source": [
        "# add a conv layer, max pooling layer, dense layer and flatten layer\n",
        "from keras.layers import Conv2D\n",
        "from keras.layers import MaxPooling2D, Dense\n",
        "from keras.layers import Flatten # converts max pooling's 2-Dimensional arrays into a single long continuous linear vector."
      ],
      "metadata": {
        "id": "0AyZ0pTlqXC0"
      },
      "execution_count": 11,
      "outputs": []
    },
    {
      "cell_type": "code",
      "source": [
        "# create a lenet-1988-like model\n",
        "\n",
        "model = Sequential(\n",
        "    [\n",
        "        # first layer: 6 3x3 filters (convolutional layer)\n",
        "        Conv2D(16, kernel_size = 5, input_shape = (64, 64, 3), activation = 'relu'),\n",
        "     \n",
        "        # second layer: max pooling to upsample image (Pooling layer)\n",
        "        MaxPooling2D(pool_size=(2, 2), padding=\"same\"),\n",
        "     \n",
        "     # third layer:  16 5x5 filters(convolutional layer)\n",
        "     Conv2D(16, kernel_size = (5,5), input_shape = (64, 64, 3), activation = 'relu'),\n",
        "\n",
        "     # forth layer: max pooling to upsample image (Pooling layer)\n",
        "     MaxPooling2D(pool_size=(2, 2), padding=\"same\"),\n",
        "     Flatten(),\n",
        "     # It's better to make your nodes power of 2\n",
        "\n",
        "     # fifth layer: connect all layers (Full connection /Dense layer)\n",
        "     Dense(128, activation = 'relu'),\n",
        "\n",
        "     # sixth layer: connect all layers (Full connection /Dense layer)\n",
        "     Dense(64, activation = 'relu'),\n",
        "\n",
        "     # seventh layer: output layer (Dense layer)\n",
        "     Dense(1, activation = 'sigmoid')\n",
        "     \n",
        "    ]\n",
        ")"
      ],
      "metadata": {
        "id": "SCctMj1NnjU9"
      },
      "execution_count": 14,
      "outputs": []
    },
    {
      "cell_type": "code",
      "source": [
        "model.summary()"
      ],
      "metadata": {
        "colab": {
          "base_uri": "https://localhost:8080/"
        },
        "id": "-uIdJ2batW-h",
        "outputId": "82249971-6776-41ba-fa07-5471dc87ad07"
      },
      "execution_count": 15,
      "outputs": [
        {
          "output_type": "stream",
          "name": "stdout",
          "text": [
            "Model: \"sequential_1\"\n",
            "_________________________________________________________________\n",
            " Layer (type)                Output Shape              Param #   \n",
            "=================================================================\n",
            " conv2d_3 (Conv2D)           (None, 60, 60, 16)        1216      \n",
            "                                                                 \n",
            " max_pooling2d_2 (MaxPooling  (None, 30, 30, 16)       0         \n",
            " 2D)                                                             \n",
            "                                                                 \n",
            " conv2d_4 (Conv2D)           (None, 26, 26, 16)        6416      \n",
            "                                                                 \n",
            " max_pooling2d_3 (MaxPooling  (None, 13, 13, 16)       0         \n",
            " 2D)                                                             \n",
            "                                                                 \n",
            " flatten_1 (Flatten)         (None, 2704)              0         \n",
            "                                                                 \n",
            " dense_3 (Dense)             (None, 128)               346240    \n",
            "                                                                 \n",
            " dense_4 (Dense)             (None, 64)                8256      \n",
            "                                                                 \n",
            " dense_5 (Dense)             (None, 1)                 65        \n",
            "                                                                 \n",
            "=================================================================\n",
            "Total params: 362,193\n",
            "Trainable params: 362,193\n",
            "Non-trainable params: 0\n",
            "_________________________________________________________________\n"
          ]
        }
      ]
    },
    {
      "cell_type": "code",
      "source": [
        "model.compile(loss=\"binary_crossentropy\", metrics=['accuracy'], optimizer = 'adam')"
      ],
      "metadata": {
        "id": "IWgT5E-uAvbV"
      },
      "execution_count": 16,
      "outputs": []
    },
    {
      "cell_type": "code",
      "source": [
        "X_train.shape"
      ],
      "metadata": {
        "colab": {
          "base_uri": "https://localhost:8080/"
        },
        "id": "TrvgoAHJRBUV",
        "outputId": "ef1a5579-498d-4302-be49-ce5c85469071"
      },
      "execution_count": 17,
      "outputs": [
        {
          "output_type": "execute_result",
          "data": {
            "text/plain": [
              "(600, 64, 64, 3)"
            ]
          },
          "metadata": {},
          "execution_count": 17
        }
      ]
    },
    {
      "cell_type": "code",
      "source": [
        "y_train = y_train.T"
      ],
      "metadata": {
        "id": "c3D68PhcRah_"
      },
      "execution_count": 18,
      "outputs": []
    },
    {
      "cell_type": "code",
      "source": [
        "import tensorflow as tf"
      ],
      "metadata": {
        "id": "7JDwXXLLMX-g"
      },
      "execution_count": 19,
      "outputs": []
    },
    {
      "cell_type": "code",
      "source": [
        "model.fit(X_train, y_train, batch_size = 128, epochs = 15, validation_split = 0.2)"
      ],
      "metadata": {
        "colab": {
          "base_uri": "https://localhost:8080/"
        },
        "id": "X30_GdL-DExB",
        "outputId": "28e6002f-f1fe-4e00-bdb4-327054a9d25f"
      },
      "execution_count": 20,
      "outputs": [
        {
          "output_type": "stream",
          "name": "stdout",
          "text": [
            "Epoch 1/15\n",
            "4/4 [==============================] - 3s 511ms/step - loss: 35.2510 - accuracy: 0.5021 - val_loss: 10.0276 - val_accuracy: 0.4500\n",
            "Epoch 2/15\n",
            "4/4 [==============================] - 2s 453ms/step - loss: 4.6758 - accuracy: 0.4958 - val_loss: 0.6754 - val_accuracy: 0.6500\n",
            "Epoch 3/15\n",
            "4/4 [==============================] - 2s 452ms/step - loss: 0.8681 - accuracy: 0.6000 - val_loss: 0.5811 - val_accuracy: 0.7333\n",
            "Epoch 4/15\n",
            "4/4 [==============================] - 2s 632ms/step - loss: 0.5951 - accuracy: 0.7333 - val_loss: 0.4966 - val_accuracy: 0.8333\n",
            "Epoch 5/15\n",
            "4/4 [==============================] - 3s 670ms/step - loss: 0.4599 - accuracy: 0.8375 - val_loss: 0.3788 - val_accuracy: 0.8750\n",
            "Epoch 6/15\n",
            "4/4 [==============================] - 2s 447ms/step - loss: 0.3354 - accuracy: 0.8562 - val_loss: 0.3072 - val_accuracy: 0.9083\n",
            "Epoch 7/15\n",
            "4/4 [==============================] - 2s 443ms/step - loss: 0.2488 - accuracy: 0.9021 - val_loss: 0.1601 - val_accuracy: 0.9333\n",
            "Epoch 8/15\n",
            "4/4 [==============================] - 2s 446ms/step - loss: 0.1775 - accuracy: 0.9417 - val_loss: 0.1101 - val_accuracy: 0.9500\n",
            "Epoch 9/15\n",
            "4/4 [==============================] - 2s 512ms/step - loss: 0.1085 - accuracy: 0.9625 - val_loss: 0.0992 - val_accuracy: 0.9833\n",
            "Epoch 10/15\n",
            "4/4 [==============================] - 3s 719ms/step - loss: 0.0758 - accuracy: 0.9771 - val_loss: 0.0772 - val_accuracy: 0.9667\n",
            "Epoch 11/15\n",
            "4/4 [==============================] - 3s 620ms/step - loss: 0.0682 - accuracy: 0.9750 - val_loss: 0.1219 - val_accuracy: 0.9583\n",
            "Epoch 12/15\n",
            "4/4 [==============================] - 2s 451ms/step - loss: 0.0577 - accuracy: 0.9854 - val_loss: 0.0670 - val_accuracy: 0.9833\n",
            "Epoch 13/15\n",
            "4/4 [==============================] - 2s 442ms/step - loss: 0.0398 - accuracy: 0.9937 - val_loss: 0.0635 - val_accuracy: 0.9583\n",
            "Epoch 14/15\n",
            "4/4 [==============================] - 2s 442ms/step - loss: 0.0546 - accuracy: 0.9792 - val_loss: 0.0744 - val_accuracy: 0.9667\n",
            "Epoch 15/15\n",
            "4/4 [==============================] - 2s 445ms/step - loss: 0.0495 - accuracy: 0.9854 - val_loss: 0.0821 - val_accuracy: 0.9833\n"
          ]
        },
        {
          "output_type": "execute_result",
          "data": {
            "text/plain": [
              "<keras.callbacks.History at 0x7f16bc6849d0>"
            ]
          },
          "metadata": {},
          "execution_count": 20
        }
      ]
    },
    {
      "cell_type": "code",
      "source": [
        "y_test = y_test.T"
      ],
      "metadata": {
        "id": "hRdA8JwjRx_K"
      },
      "execution_count": 21,
      "outputs": []
    },
    {
      "cell_type": "code",
      "source": [
        "model.evaluate(X_test, y_test)"
      ],
      "metadata": {
        "id": "8KuvSe0eFBg4",
        "colab": {
          "base_uri": "https://localhost:8080/"
        },
        "outputId": "1b212e06-7b3e-4200-a343-f9e061965ebf"
      },
      "execution_count": 22,
      "outputs": [
        {
          "output_type": "stream",
          "name": "stdout",
          "text": [
            "5/5 [==============================] - 0s 32ms/step - loss: 0.1819 - accuracy: 0.9333\n"
          ]
        },
        {
          "output_type": "execute_result",
          "data": {
            "text/plain": [
              "[0.18186715245246887, 0.9333333373069763]"
            ]
          },
          "metadata": {},
          "execution_count": 22
        }
      ]
    }
  ]
}